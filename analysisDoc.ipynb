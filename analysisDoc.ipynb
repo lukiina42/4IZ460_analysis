{
 "cells": [
  {
   "cell_type": "markdown",
   "id": "72cd65da",
   "metadata": {},
   "source": [
    "# Pokročilé dolování z databází - Průběžná zpráva\n",
    "### Dan Balarin, Lukáš Vala\n",
    "### Datasety: <a href = \"https://archive-beta.ics.uci.edu/dataset/2/adult\">Adult</a>, <a href=\"https://data.worldbank.org/indicator/NY.GDP.PCAP.CD?end=1994&most_recent_year_desc=true&start=1993\">GDP in 1994</a>\n",
    "\n",
    "# Vypracování návodu pro zpracování a analýzu dat pomocí systému CleverMiner\n",
    "## Krok 0 Instalace potřebných knihoven\n",
    "- Clever Miner: `pip install cleverminer`\n",
    "- pandas: `pip install pandas`\n",
    "## Krok 1 Načtení a zpracování dat\n",
    "Prvním krokem je načíst data pomocí knihovny pandas. Data se v tomto případě nacházejí ve složce data:"
   ]
  },
  {
   "cell_type": "code",
   "execution_count": null,
   "id": "e28cd5cd",
   "metadata": {},
   "outputs": [],
   "source": [
    "import pandas as pd\n",
    "\n",
    "adult = pd.read_csv ('./data/adult.data', encoding='cp1250', sep=', ')\n",
    "gdp = pd.read_csv ('./data/gdpStates.txt', encoding='cp1250', sep='\\t')\n",
    "\n",
    "print(adult.head(5))\n",
    "print(gdp.head(5))"
   ]
  },
  {
   "cell_type": "markdown",
   "id": "cf46a960",
   "metadata": {},
   "source": [
    "Pomocí parametru `sep` je důležité specifikovat, jaký separátor jednotlivých atributů je v tabulce použit. U datasetu adult je to `, ` a u GDP je to tabulátor. Správnost načtení dat můžeme poté zkontrolovat pomocí výpisu prvních 5 hodnot obou tabulek.\n",
    "\n",
    "Dále bychom si také měli zkontrolovat, zda pandas správně určila datové typy u jednotlivých sloupců. \n",
    "To můžeme zjistit pomocí příkazu `dtypes`:"
   ]
  },
  {
   "cell_type": "code",
   "execution_count": 4,
   "id": "4b1b8dd9",
   "metadata": {},
   "outputs": [
    {
     "name": "stdout",
     "output_type": "stream",
     "text": [
      "Age                int64\n",
      "Workclass         object\n",
      "fnlwgt             int64\n",
      "education         object\n",
      "education-num      int64\n",
      "marital-status    object\n",
      "occupation        object\n",
      "relationship      object\n",
      "race              object\n",
      "sex               object\n",
      "capital-gain       int64\n",
      "capital-loss       int64\n",
      "hours-per-week     int64\n",
      "country           object\n",
      "income            object\n",
      "dtype: object\n",
      "country              object\n",
      "Most Recent Year      int64\n",
      "GDP per Capita      float64\n",
      "dtype: object\n"
     ]
    }
   ],
   "source": [
    "print(adult.dtypes)\n",
    "print(gdp.dtypes)"
   ]
  },
  {
   "cell_type": "markdown",
   "id": "677e5ea6",
   "metadata": {},
   "source": [
    "Pro string vypíše pandas `object`, pro integer `int64` a pro desetinné číslo `float64`"
   ]
  },
  {
   "cell_type": "markdown",
   "id": "f9af326a",
   "metadata": {},
   "source": [
    "## Spojení dat\n",
    "Nyní je třeba spojit 2 tabulky do sebe. Obě obsahují sloupec country. V tabulce `adult` se tento sloupec jmenuje `native-country`, je proto nutné ho přejmenovat přímo v datasetu na `country`, aby se shodoval s názvem sloupce ve druhém datasetu. Dále je potřeba upravit jednotlivé hodnoty v jedné z tabulek, protože např. hodnota `United States` v tabulce adult je původně zapsána v gdp tabulce jako `United-States`. Použijeme tedy funkci definovanou v ukázce pod tímto textem a následně v datech GDP najdeme jednotlivé hodnoty a nahradíme je správnými hodnotami z tabulky adult (použita funkce najít a nahradit ve VS-code :) )."
   ]
  },
  {
   "cell_type": "code",
   "execution_count": 5,
   "id": "3a58d95e",
   "metadata": {},
   "outputs": [],
   "source": [
    "def getUniqueValuesFromColumn(df, col):\n",
    "    values = df[col].tolist()\n",
    "    uniqueValues = []\n",
    "    for i in values:\n",
    "        if(i not in uniqueValues):\n",
    "            uniqueValues.append(i)\n",
    "    return uniqueValues\n",
    "\n",
    "uniqueCountryValues = getUniqueValuesFromColumn(adult, \"country\")"
   ]
  },
  {
   "cell_type": "markdown",
   "id": "05e262ff",
   "metadata": {},
   "source": [
    "Před samotným spojením tabulek ještě odstraníme z GDP tabulky ty státy, které nejsou obsaženy v tabulce adult, aby po spojení nedošlo k vytvoření několika řádků s prázdnými hodnotami (vyplněný by byl pouze stát). Použijeme proto další funkci, do které přidáme dataset, název sloupce a pole hodnot států. Funkce nám pak vráti dataset obsahující pouze řádky se státem, který byl obsažený v poskytnutém poli (uniqueCountryValues z části před touto)."
   ]
  },
  {
   "cell_type": "code",
   "execution_count": 6,
   "id": "623a0422",
   "metadata": {},
   "outputs": [],
   "source": [
    "def filter_rows_by_values(df, col, values):\n",
    "    return df[df[col].isin(values)]\n",
    "\n",
    "gdp = filter_rows_by_values(gdp, \"country\", uniqueCountryValues)"
   ]
  },
  {
   "cell_type": "markdown",
   "id": "906393a4",
   "metadata": {},
   "source": [
    "Poté již spojíme datasety a vznikne nám nový, který obsahuje všechny atributy z datasetu adult a navíc hrubý domácí produkt státu, ze kterého daná osoba pochází:"
   ]
  },
  {
   "cell_type": "code",
   "execution_count": 7,
   "id": "4706b81c",
   "metadata": {},
   "outputs": [],
   "source": [
    "adultWithGdp = pd.merge(adult, gdp, on='country', how='outer')"
   ]
  },
  {
   "cell_type": "markdown",
   "id": "2585e3dc",
   "metadata": {},
   "source": [
    "Nyní můžeme vytvořit nové atributy v datasetu podle našich potřeb. Následující kód vytvoří nový sloupec `AgeStatus` a připíše hodnotu \"Young\" lidem mladším než 30, \"Middle aged\" lidem mezi 30 a 60 a \"Old\" lidem starším než 60."
   ]
  },
  {
   "cell_type": "code",
   "execution_count": 8,
   "id": "9e1f3de7",
   "metadata": {},
   "outputs": [],
   "source": [
    "adultWithGdp['AgeStatus'] = adultWithGdp.apply(lambda row: \"Young\" if row.Age < 30 else (\"Middle aged\" if row.Age >= 30 & row.Age < 60 else \"Old\"), axis=1)"
   ]
  }
 ],
 "metadata": {
  "kernelspec": {
   "display_name": "Python 3.10.7 64-bit",
   "language": "python",
   "name": "python3"
  },
  "language_info": {
   "codemirror_mode": {
    "name": "ipython",
    "version": 3
   },
   "file_extension": ".py",
   "mimetype": "text/x-python",
   "name": "python",
   "nbconvert_exporter": "python",
   "pygments_lexer": "ipython3",
   "version": "3.10.7"
  },
  "vscode": {
   "interpreter": {
    "hash": "e1719be7d630e7e0894a4346e00239747771550a505546fd5ba4d63ceaa06c07"
   }
  }
 },
 "nbformat": 4,
 "nbformat_minor": 5
}
