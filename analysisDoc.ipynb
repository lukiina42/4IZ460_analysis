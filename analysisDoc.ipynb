{
 "cells": [
  {
   "cell_type": "markdown",
   "id": "72cd65da",
   "metadata": {},
   "source": [
    "# Průběžné dolování z databází - Průběžná zpráva\n",
    "### Dan Balarin, Lukáš Vala\n",
    "### Datasety: <a href = \"https://archive-beta.ics.uci.edu/dataset/2/adult\">Adult</a>, <a href=\"https://data.worldbank.org/indicator/NY.GDP.PCAP.CD?end=1994&most_recent_year_desc=true&start=1993\">GDP in 1994</a>\n",
    "## Vypracování návodu pro zpracování a analýzu dat pomocí systému CleverMiner"
   ]
  }
 ],
 "metadata": {
  "kernelspec": {
   "display_name": "Python 3.10.7 64-bit",
   "language": "python",
   "name": "python3"
  },
  "language_info": {
   "codemirror_mode": {
    "name": "ipython",
    "version": 3
   },
   "file_extension": ".py",
   "mimetype": "text/x-python",
   "name": "python",
   "nbconvert_exporter": "python",
   "pygments_lexer": "ipython3",
   "version": "3.10.7"
  },
  "vscode": {
   "interpreter": {
    "hash": "e1719be7d630e7e0894a4346e00239747771550a505546fd5ba4d63ceaa06c07"
   }
  }
 },
 "nbformat": 4,
 "nbformat_minor": 5
}
