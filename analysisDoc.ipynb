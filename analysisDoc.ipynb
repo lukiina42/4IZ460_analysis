{
 "cells": [
  {
   "cell_type": "markdown",
   "id": "72cd65da",
   "metadata": {},
   "source": [
    "# Pokročilé dolování z databází - Průběžná zpráva\n",
    "### Dan Balarin, Lukáš Vala\n",
    "### Datasety: <a href = \"https://archive-beta.ics.uci.edu/dataset/2/adult\">Adult</a>, <a href=\"https://data.worldbank.org/indicator/NY.GDP.PCAP.CD?end=1994&most_recent_year_desc=true&start=1993\">GDP in 1994</a>\n",
    "\n",
    "# Vypracování návodu pro zpracování a analýzu dat pomocí systému CleverMiner\n",
    "## Krok 0 Instalace potřebných knihoven\n",
    "- Clever Miner: `pip install cleverminer`\n",
    "- pandas: `pip install pandas`\n",
    "## Krok 1 Načtení a zpracování dat\n",
    "Prvním krokem je načíst data pomocí knihovny pandas. Data se v tomto případě nacházejí ve složce data:"
   ]
  },
  {
   "cell_type": "code",
   "execution_count": 10,
   "id": "e28cd5cd",
   "metadata": {},
   "outputs": [
    {
     "name": "stderr",
     "output_type": "stream",
     "text": [
      "C:\\Users\\lukas\\AppData\\Local\\Temp\\ipykernel_3112\\2916565987.py:3: ParserWarning: Falling back to the 'python' engine because the 'c' engine does not support regex separators (separators > 1 char and different from '\\s+' are interpreted as regex); you can avoid this warning by specifying engine='python'.\n",
      "  adult = pd.read_csv ('./data/adult.data', encoding='cp1250', sep=', ')\n"
     ]
    },
    {
     "name": "stdout",
     "output_type": "stream",
     "text": [
      "   Age         Workclass  fnlwgt  education  education-num  \\\n",
      "0   39         State-gov   77516  Bachelors             13   \n",
      "1   50  Self-emp-not-inc   83311  Bachelors             13   \n",
      "2   38           Private  215646    HS-grad              9   \n",
      "3   53           Private  234721       11th              7   \n",
      "4   28           Private  338409  Bachelors             13   \n",
      "\n",
      "       marital-status         occupation   relationship   race     sex  \\\n",
      "0       Never-married       Adm-clerical  Not-in-family  White    Male   \n",
      "1  Married-civ-spouse    Exec-managerial        Husband  White    Male   \n",
      "2            Divorced  Handlers-cleaners  Not-in-family  White    Male   \n",
      "3  Married-civ-spouse  Handlers-cleaners        Husband  Black    Male   \n",
      "4  Married-civ-spouse     Prof-specialty           Wife  Black  Female   \n",
      "\n",
      "   capital-gain  capital-loss  hours-per-week        country income  \n",
      "0          2174             0              40  United-States  <=50K  \n",
      "1             0             0              13  United-States  <=50K  \n",
      "2             0             0              40  United-States  <=50K  \n",
      "3             0             0              40  United-States  <=50K  \n",
      "4             0             0              40           Cuba  <=50K  \n",
      "        country  Most Recent Year  GDP per Capita\n",
      "0  Saudi Arabia              1994          7421.3\n",
      "1         Qatar              1994         14544.0\n",
      "2       Ukraine              1994          1012.0\n",
      "3        Jordan              1994          1414.3\n",
      "4     Indonesia              1994           912.2\n"
     ]
    }
   ],
   "source": [
    "import pandas as pd\n",
    "\n",
    "adult = pd.read_csv ('./data/adult.data', encoding='cp1250', sep=', ')\n",
    "gdp = pd.read_csv ('./data/gdpStates.txt', encoding='cp1250', sep='\\t')\n",
    "\n",
    "print(adult.head(5))\n",
    "print(gdp.head(5))"
   ]
  },
  {
   "cell_type": "markdown",
   "id": "cf46a960",
   "metadata": {},
   "source": [
    "Pomocí parametru `sep` je důležité specifikovat, jaký separátor jednotlivých atributů je v tabulce použit. U datasetu adult je to `, ` a u GDP je to tabulátor. Správnost načtení dat můžeme poté zkontrolovat pomocí výpisu prvních 5 hodnot obou tabulek.\n",
    "\n",
    "Dále bychom si také měli zkontrolovat, zda pandas správně určila datové typy u jednotlivých sloupců. \n",
    "To můžeme zjistit pomocí příkazu `dtypes`:"
   ]
  },
  {
   "cell_type": "code",
   "execution_count": 11,
   "id": "4b1b8dd9",
   "metadata": {},
   "outputs": [
    {
     "name": "stdout",
     "output_type": "stream",
     "text": [
      "Age                int64\n",
      "Workclass         object\n",
      "fnlwgt             int64\n",
      "education         object\n",
      "education-num      int64\n",
      "marital-status    object\n",
      "occupation        object\n",
      "relationship      object\n",
      "race              object\n",
      "sex               object\n",
      "capital-gain       int64\n",
      "capital-loss       int64\n",
      "hours-per-week     int64\n",
      "country           object\n",
      "income            object\n",
      "dtype: object\n",
      "country              object\n",
      "Most Recent Year      int64\n",
      "GDP per Capita      float64\n",
      "dtype: object\n"
     ]
    }
   ],
   "source": [
    "print(adult.dtypes)\n",
    "print(gdp.dtypes)"
   ]
  },
  {
   "cell_type": "markdown",
   "id": "677e5ea6",
   "metadata": {},
   "source": [
    "Pro string vypíše pandas `object`, pro integer `int64` a pro desetinné číslo `float64`"
   ]
  },
  {
   "cell_type": "markdown",
   "id": "f9af326a",
   "metadata": {},
   "source": [
    "## Krok 2 - Spojení dat\n",
    "Nyní je třeba spojit 2 tabulky do sebe. Obě obsahují sloupec country. V tabulce `adult` se tento sloupec jmenuje `native-country`, je proto nutné ho přejmenovat přímo v datasetu na `country`, aby se shodoval s názvem sloupce ve druhém datasetu. Dále je potřeba upravit jednotlivé hodnoty v jedné z tabulek, protože např. hodnota `United States` v tabulce adult je původně zapsána v gdp tabulce jako `United-States`. Použijeme tedy funkci definovanou v ukázce pod tímto textem a následně v datech GDP najdeme jednotlivé hodnoty a nahradíme je správnými hodnotami z tabulky adult (použita funkce najít a nahradit ve VS-code :) )."
   ]
  },
  {
   "cell_type": "code",
   "execution_count": 12,
   "id": "3a58d95e",
   "metadata": {},
   "outputs": [],
   "source": [
    "def getUniqueValuesFromColumn(df, col):\n",
    "    values = df[col].tolist()\n",
    "    uniqueValues = []\n",
    "    for i in values:\n",
    "        if(i not in uniqueValues):\n",
    "            uniqueValues.append(i)\n",
    "    return uniqueValues\n",
    "\n",
    "uniqueCountryValues = getUniqueValuesFromColumn(adult, \"country\")"
   ]
  },
  {
   "cell_type": "markdown",
   "id": "05e262ff",
   "metadata": {},
   "source": [
    "Před samotným spojením tabulek ještě odstraníme z GDP tabulky ty státy, které nejsou obsaženy v tabulce adult, aby po spojení nedošlo k vytvoření několika řádků s prázdnými hodnotami (vyplněný by byl pouze stát). Použijeme proto další funkci, do které přidáme dataset, název sloupce a pole hodnot států. Funkce nám pak vráti dataset obsahující pouze řádky se státem, který byl obsažený v poskytnutém poli (uniqueCountryValues z části před touto)."
   ]
  },
  {
   "cell_type": "code",
   "execution_count": 13,
   "id": "623a0422",
   "metadata": {},
   "outputs": [],
   "source": [
    "def filter_rows_by_values(df, col, values):\n",
    "    return df[df[col].isin(values)]\n",
    "\n",
    "gdp = filter_rows_by_values(gdp, \"country\", uniqueCountryValues)"
   ]
  },
  {
   "cell_type": "markdown",
   "id": "906393a4",
   "metadata": {},
   "source": [
    "Poté již spojíme datasety a vznikne nám nový, který obsahuje všechny atributy z datasetu adult a navíc hrubý domácí produkt státu, ze kterého daná osoba pochází:"
   ]
  },
  {
   "cell_type": "code",
   "execution_count": 14,
   "id": "4706b81c",
   "metadata": {},
   "outputs": [],
   "source": [
    "adultWithGdp = pd.merge(adult, gdp, on='country', how='outer')"
   ]
  },
  {
   "cell_type": "markdown",
   "id": "2585e3dc",
   "metadata": {},
   "source": [
    "Nyní můžeme vytvořit nové atributy v datasetu podle našich potřeb. Následující kód vytvoří nový sloupec `AgeStatus` a připíše hodnotu \"Young\" lidem mladším než 30, \"Middle aged\" lidem mezi 30 a 60 a \"Old\" lidem starším než 60."
   ]
  },
  {
   "cell_type": "code",
   "execution_count": 15,
   "id": "9e1f3de7",
   "metadata": {},
   "outputs": [],
   "source": [
    "adultWithGdp['AgeStatus'] = adultWithGdp.apply(lambda row: \"Young\" if row.Age < 30 else (\"Middle aged\" if row.Age >= 30 & row.Age < 60 else \"Old\"), axis=1)"
   ]
  },
  {
   "cell_type": "markdown",
   "id": "8a492ccc",
   "metadata": {},
   "source": [
    "## Krok 3 - <a href=\"https://lispminer.vse.cz/wiki/doku.php?id=mkl:start\">KL miner</a>\n",
    "Analytická procedura KL-Miner hledá všechny zajímavé frekvence kombinací hodnot kategorií dvou předzpracovaných atributů, navíc počítané na podmnožinách analyzovaných dat zadaných pomocí booleovských atributů s bohatou syntaxí.\n",
    "\n",
    "U KL mineru nastavuje základní parametry:\n",
    "`conf`: Konfidence - pravděpodobnost, že podmínka bude vyplněna\n",
    "`base`: Základ - počet vyhovujících případů\n",
    "`minlen, maxlen`: Maximální a minimální délka podmnožin/sekvencí/cutů\n",
    "\n",
    "V Clever Mineru používáme KL-miner následovně:"
   ]
  },
  {
   "cell_type": "code",
   "execution_count": 16,
   "id": "5f44f70f",
   "metadata": {},
   "outputs": [
    {
     "name": "stdout",
     "output_type": "stream",
     "text": [
      "Cleverminer version 1.0.2. Note: This version is for personal and educational use only. If you need PRO version (support, fixing structures for compactibility in future versions for production deployment, additional development, licensing of commercial use of subroutines used), feel free to ask authors. Most of these functionalities are maintained in best-effort, as soon as this project is at given conditions for free use and rapid development is needed, they cannot be guaranteed.\n",
      "Starting data preparation ...\n",
      "Encoding columns into bit-form...\n",
      "Encoding columns into bit-form...done\n",
      "Data preparation finished.\n",
      "Will go for  4ftMiner\n",
      "Starting to mine rules.\n",
      "Done. Total verifications : 1, rules 1,control number:0, times: prep 3.314272403717041, processing 0.0\n"
     ]
    }
   ],
   "source": [
    "from cleverminer import cleverminer\n",
    "\n",
    "clm = cleverminer(df=adultWithGdp, proc='4ftMiner',\n",
    "               quantifiers= {'conf':0.67, 'Base':10000},\n",
    "               ante ={\n",
    "                    'attributes':[\n",
    "                        {'name': 'AgeStatus', 'type': 'subset', 'minlen': 1, 'maxlen': 1}\n",
    "                    ], 'minlen':1, 'maxlen':1, 'type':'con'},\n",
    "               succ ={\n",
    "                    'attributes':[\n",
    "                        {'name': 'income', 'type': 'subset', 'minlen': 1, 'maxlen': 1}\n",
    "                    ], 'minlen':1, 'maxlen':1, 'type':'con'}\n",
    "               )"
   ]
  },
  {
   "cell_type": "markdown",
   "id": "e4a5d497",
   "metadata": {},
   "source": [
    "V předchozí ukázce jako antecedent nastavujeme vytvořený atribut `AgeStatus` a sukcedent `income`. Konfidenci jsme nastavili na 67% a základ 10 000.\n",
    "\n",
    "Přepisem do lidsky srozumitelného jazyka toto znamená: Jestliže si vezmeme nějakou hodnotu z `AgeStatus`(Old/Yound/Middle aged), je v nějakém případě pravděpodobnost vyšší než 67%, že v tom případě daná osoba bude vydělávat více či méně než 50K?\n",
    "\n",
    "Výsledek vypíšeme následovně:"
   ]
  },
  {
   "cell_type": "code",
   "execution_count": null,
   "id": "d4160a72",
   "metadata": {},
   "outputs": [],
   "source": [
    "clm.print_summary()\n",
    "clm.print_rulelist()\n",
    "clm.print_rule(1)"
   ]
  },
  {
   "cell_type": "markdown",
   "id": "3a8cb53e",
   "metadata": {},
   "source": [
    "Jako výstup uvidíme toto:\n",
    "\n",
    "Cedents:\n",
    "\n",
    "  antecedent : AgeStatus(Middle aged)\n",
    "\n",
    "  succcedent : income(<=50K)\n",
    "\n",
    "![lol](./img/4table.png)"
   ]
  },
  {
   "cell_type": "markdown",
   "id": "1fad1914",
   "metadata": {},
   "source": [
    "Z tabulky vidíme, že Clever Miner skutečně našel takový vztah mezi `AgeStatus` a `income`. Konkrétně z výsledku můžeme vyvodit toto pravidlo: jestliže je někdo middle aged (30-60), pak je šance minimálně 67%, že bude mít plat menší nebo rovno 50 tisíc dolarů za rok a zároveň takových lidí je viíce než 10 000. V kódu je uvedeno více příkladů s prací s KL minerem."
   ]
  }
 ],
 "metadata": {
  "kernelspec": {
   "display_name": "Python 3.10.7 64-bit",
   "language": "python",
   "name": "python3"
  },
  "language_info": {
   "codemirror_mode": {
    "name": "ipython",
    "version": 3
   },
   "file_extension": ".py",
   "mimetype": "text/x-python",
   "name": "python",
   "nbconvert_exporter": "python",
   "pygments_lexer": "ipython3",
   "version": "3.10.7"
  },
  "vscode": {
   "interpreter": {
    "hash": "e1719be7d630e7e0894a4346e00239747771550a505546fd5ba4d63ceaa06c07"
   }
  }
 },
 "nbformat": 4,
 "nbformat_minor": 5
}
