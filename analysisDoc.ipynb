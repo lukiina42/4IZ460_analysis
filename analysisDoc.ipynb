{
 "cells": [
  {
   "cell_type": "markdown",
   "id": "72cd65da",
   "metadata": {},
   "source": [
    "# Pokročilé dolování z databází - Průběžná zpráva\n",
    "### Autoři: Lukáš Vala, Dan Balarin\n",
    "\n",
    "# Použitá data\n",
    "V tomto návodu budeme pracovat s dvěma datasety:\n",
    " - [Adult](https://archive-beta.ics.uci.edu/dataset/2/adult) - Obsahuje data z roku 1994. Obsahuje informace o lidech z celého světa a k tomu navíc, zda daná osoba vydělává více či méně než 50000 dolarů za rok. Můžeme si tedy pokládat otázky, jak ovlivňuje plat národnost, rasa, pohlaví a podobně.\n",
    "    - Počet řádků: 48842\n",
    "    - Počet slouců: 14\n",
    " - [GDP in 1994](https://data.worldbank.org/indicator/NY.GDP.PCAP.CD?end=1994&most_recent_year_desc=true&start=1993) - Obsahuje informace o hrubém domácím produktu jednotlivých států v roce 1994. \n",
    "    - Počet řádků: 266\n",
    "    - Počet slouců: 3 - jeden z těchto sloupců bude v tomto návodu smazán\n",
    "\n",
    " Oba datasety obsahují sloupec stát - proto je budeme dále v dokumentu spojovat podle tohoto sloupce.\n",
    "\n",
    "# Vypracování návodu pro zpracování a analýzu dat pomocí systému CleverMiner\n",
    "## Krok 0 Instalace potřebných knihoven\n",
    "- Clever Miner: `pip install cleverminer`\n",
    "- pandas: `pip install pandas`\n",
    "## Krok 1 Načtení a zpracování dat\n",
    "Prvním krokem je načíst data pomocí knihovny pandas. Data se v tomto případě nacházejí ve složce data:"
   ]
  },
  {
   "cell_type": "code",
   "execution_count": null,
   "id": "e28cd5cd",
   "metadata": {},
   "outputs": [],
   "source": [
    "import pandas as pd\n",
    "\n",
    "adult = pd.read_csv ('./data/adult.data', encoding='cp1250', sep=', ')\n",
    "gdp = pd.read_csv ('./data/gdpStates.txt', encoding='cp1250', sep='\\t')\n",
    "\n",
    "adult.head(5)\n",
    "gdp.head(5)"
   ]
  },
  {
   "cell_type": "markdown",
   "id": "cf46a960",
   "metadata": {},
   "source": [
    "Pomocí parametru `sep` je důležité specifikovat, jaký separátor jednotlivých atributů je v tabulce použit. U datasetu adult je to `, ` a u GDP je to tabulátor. Správnost načtení dat můžeme poté zkontrolovat pomocí výpisu prvních 5 hodnot obou tabulek.\n",
    "\n",
    "Dále bychom si také měli zkontrolovat, zda pandas správně určila datové typy u jednotlivých sloupců. \n",
    "To můžeme zjistit pomocí příkazu `dtypes`:"
   ]
  },
  {
   "cell_type": "code",
   "execution_count": 22,
   "id": "4b1b8dd9",
   "metadata": {},
   "outputs": [
    {
     "name": "stdout",
     "output_type": "stream",
     "text": [
      "Age                int64\n",
      "Workclass         object\n",
      "fnlwgt             int64\n",
      "education         object\n",
      "education-num      int64\n",
      "marital-status    object\n",
      "occupation        object\n",
      "relationship      object\n",
      "race              object\n",
      "sex               object\n",
      "capital-gain       int64\n",
      "capital-loss       int64\n",
      "hours-per-week     int64\n",
      "country           object\n",
      "income            object\n",
      "dtype: object\n",
      "country              object\n",
      "Most Recent Year      int64\n",
      "GDP per Capita      float64\n",
      "dtype: object\n"
     ]
    }
   ],
   "source": [
    "print(adult.dtypes)\n",
    "print(gdp.dtypes)"
   ]
  },
  {
   "cell_type": "markdown",
   "id": "677e5ea6",
   "metadata": {},
   "source": [
    "Pro string vypíše pandas `object`, pro integer `int64` a pro desetinné číslo `float64`"
   ]
  },
  {
   "cell_type": "markdown",
   "id": "f9af326a",
   "metadata": {},
   "source": [
    "## Krok 2 - Spojení dat\n",
    "Nyní je třeba spojit 2 tabulky do sebe, abychom mohli analýzu provádět nad datasetem Adult společně s informací o hrubém domácím produktu státu, v němž byl daný člověk narozen. \n",
    "\n",
    "Oba datasety obsahují sloupec country. V tabulce `adult` se tento sloupec jmenuje `native-country`, je proto nutné ho přejmenovat přímo v datasetu na `country`, aby se shodoval s názvem sloupce ve druhém datasetu. Dále je potřeba upravit jednotlivé hodnoty v jedné z tabulek, protože např. hodnota `United States` v tabulce adult je původně zapsána v gdp tabulce jako `United-States`. Použijeme tedy funkci definovanou v ukázce pod tímto textem a následně v datech GDP najdeme jednotlivé hodnoty a nahradíme je správnými hodnotami z tabulky adult (použita funkce najít a nahradit ve VS-code :) )."
   ]
  },
  {
   "cell_type": "code",
   "execution_count": 23,
   "id": "3a58d95e",
   "metadata": {},
   "outputs": [],
   "source": [
    "def getUniqueValuesFromColumn(df, col):\n",
    "    values = df[col].tolist()\n",
    "    uniqueValues = []\n",
    "    for i in values:\n",
    "        if(i not in uniqueValues):\n",
    "            uniqueValues.append(i)\n",
    "    return uniqueValues\n",
    "\n",
    "uniqueCountryValues = getUniqueValuesFromColumn(adult, \"country\")"
   ]
  },
  {
   "cell_type": "markdown",
   "id": "05e262ff",
   "metadata": {},
   "source": [
    "Před samotným spojením tabulek ještě odstraníme z GDP tabulky ty státy, které nejsou obsaženy v tabulce adult, aby po spojení nedošlo k vytvoření několika řádků s prázdnými hodnotami (vyplněný by byl pouze stát). Použijeme proto další funkci, do které přidáme dataset, název sloupce a pole hodnot států. Funkce nám pak vráti dataset obsahující pouze řádky se státem, který byl obsažený v poskytnutém poli (uniqueCountryValues z části před touto)."
   ]
  },
  {
   "cell_type": "code",
   "execution_count": 24,
   "id": "623a0422",
   "metadata": {},
   "outputs": [],
   "source": [
    "def filter_rows_by_values(df, col, values):\n",
    "    return df[df[col].isin(values)]\n",
    "\n",
    "gdp = filter_rows_by_values(gdp, \"country\", uniqueCountryValues)"
   ]
  },
  {
   "cell_type": "markdown",
   "id": "906393a4",
   "metadata": {},
   "source": [
    "Poté již spojíme datasety a vznikne nám nový, který obsahuje všechny atributy z datasetu adult a navíc hrubý domácí produkt státu, ze kterého daná osoba pochází:"
   ]
  },
  {
   "cell_type": "code",
   "execution_count": 25,
   "id": "4706b81c",
   "metadata": {},
   "outputs": [],
   "source": [
    "adultWithGdp = pd.merge(adult, gdp, on='country', how='outer')"
   ]
  },
  {
   "cell_type": "markdown",
   "id": "2585e3dc",
   "metadata": {},
   "source": [
    "Nyní můžeme vytvořit nové atributy v datasetu podle našich potřeb. Následující kód vytvoří nový sloupec `AgeStatus` a připíše hodnotu \"Young\" lidem mladším než 30, \"Middle aged\" lidem mezi 30 a 60 a \"Old\" lidem starším než 60."
   ]
  },
  {
   "cell_type": "code",
   "execution_count": 26,
   "id": "9e1f3de7",
   "metadata": {},
   "outputs": [],
   "source": [
    "adultWithGdp['AgeStatus'] = adultWithGdp.apply(lambda row: \"Young\" if row.Age < 30 else (\"Middle aged\" if row.Age >= 30 & row.Age < 60 else \"Old\"), axis=1)"
   ]
  },
  {
   "cell_type": "markdown",
   "id": "8a492ccc",
   "metadata": {},
   "source": [
    "## Krok 3 - <a href=\"https://lispminer.vse.cz/wiki/doku.php?id=mft:start\">4ft miner</a>\n",
    "\n",
    "Reference na [Clever Miner](https://www.cleverminer.org/docs-page.html#section-4)\n",
    "\n",
    "Analytická procedura 4ft-Miner hledá všechny zajímavé frekvence kombinací hodnot kategorií dvou předzpracovaných atributů, navíc počítané na podmnožinách analyzovaných dat zadaných pomocí booleovských atributů s bohatou syntaxí.\n",
    " \n",
    "U 4ft mineru nastavuje základní parametry:\n",
    "`conf`: Konfidence - pravděpodobnost, že podmínka bude vyplněna\n",
    "`base`: Základ - počet vyhovujících případů\n",
    "`minlen, maxlen`: Maximální a minimální délka podmnožin/sekvencí/cutů\n",
    "\n",
    "### Příklad 1\n",
    "\n",
    "V Clever Mineru používáme 4ft miner následovně:"
   ]
  },
  {
   "cell_type": "code",
   "execution_count": null,
   "id": "5f44f70f",
   "metadata": {},
   "outputs": [],
   "source": [
    "from cleverminer import cleverminer\n",
    "\n",
    "clm = cleverminer(df=adultWithGdp, proc='4ftMiner',\n",
    "               quantifiers= {'conf':0.7, 'Base':18000},\n",
    "               ante ={\n",
    "                    'attributes':[\n",
    "                        {'name': 'AgeStatus', 'type': 'subset', 'minlen': 1, 'maxlen': 2}\n",
    "                    ], 'minlen':1, 'maxlen':1, 'type':'con'},\n",
    "               succ ={\n",
    "                    'attributes':[\n",
    "                        {'name': 'income', 'type': 'subset', 'minlen': 1, 'maxlen': 1}\n",
    "                    ], 'minlen':1, 'maxlen':1, 'type':'con'}\n",
    "                )"
   ]
  },
  {
   "cell_type": "markdown",
   "id": "e4a5d497",
   "metadata": {},
   "source": [
    "V předchozí ukázce jako antecedent nastavujeme vytvořený atribut `AgeStatus` s minimální délkou atributu 1 a maximální délkou 2. To znamená, že clever miner bude vyhledávat podmnožiny z atributu AgeStatus o délce 1 - 2. Jako výsledek tedy můžeme dostat například `AgeStatus(Middle aged)`(délka podmnožiny 1), nebo např. `AgeStatus(Middle aged, Old)`(délka podmnožiny 2), což nám říká, že Age status daného člověka je buď Middle aged nebo Old. Sukcedent jsme nastavili na `income`. Vzhledem k tomu, že atribut `income` může nabývat pouze dvou hodnot, nedává v tomto případě smysl nastavovat maximální délku podmnožiny na 2 - byly by obsaženy všechny hodnoty z `income`.\n",
    "\n",
    "Konfidenci jsme nastavili na 70% a základ 18 000.\n",
    "\n",
    "Přepisem do lidsky srozumitelného jazyka toto znamená: Jestliže si vezmeme pro osobu jednu nebo dvě hodnoty z `AgeStatus`(Old/Yound/Middle aged), je v nějakém případě pravděpodobnost, že daná osoba bude vydělávat více či méně než 50K, vyšší než 70% a zároveň je takových osob v datasetu více než 18 000?\n",
    "\n",
    "Výsledek vypíšeme následovně:"
   ]
  },
  {
   "cell_type": "markdown",
   "id": "80c85e41",
   "metadata": {},
   "source": [
    "Pomocí následujícího příkazu můžeme zjistit, zda Clever Miner takové pravidlo v datech našel:"
   ]
  },
  {
   "cell_type": "code",
   "execution_count": 28,
   "id": "f222e686",
   "metadata": {},
   "outputs": [
    {
     "name": "stdout",
     "output_type": "stream",
     "text": [
      "\n",
      "List of rules:\n",
      "RULEID BASE  CONF  AAD    Rule\n",
      "     1 24720 0.759 +0.000 AgeStatus(Middle aged Young) => income(<=50K) | ---\n",
      "\n"
     ]
    }
   ],
   "source": [
    "clm.print_rulelist()"
   ]
  },
  {
   "cell_type": "markdown",
   "id": "510a34dc",
   "metadata": {},
   "source": [
    "Z výpisu vydíme, že jedno takové pravidlo existuje. Detaily o něm vypíšeme následovně:"
   ]
  },
  {
   "cell_type": "code",
   "execution_count": 29,
   "id": "d4160a72",
   "metadata": {},
   "outputs": [
    {
     "name": "stdout",
     "output_type": "stream",
     "text": [
      "\n",
      "\n",
      "Rule id : 1\n",
      "\n",
      "Base : 24720  Relative base : 0.759  CONF : 0.759  AAD : +0.000  BAD : +0.000\n",
      "\n",
      "Cedents:\n",
      "  antecedent : AgeStatus(Middle aged Young)\n",
      "  succcedent : income(<=50K)\n",
      "  condition  : ---\n",
      "\n",
      "Fourfold table\n",
      "    |  S  |  ¬S |\n",
      "----|-----|-----|\n",
      " A  |24720| 7841|\n",
      "----|-----|-----|\n",
      "¬A  |    0|    0|\n",
      "----|-----|-----|\n",
      "\n"
     ]
    }
   ],
   "source": [
    "clm.print_rule(1)"
   ]
  },
  {
   "cell_type": "markdown",
   "id": "1fad1914",
   "metadata": {},
   "source": [
    "Z tabulky vidíme, že Clever Miner skutečně našel takový vztah mezi `AgeStatus` a `income`. Konkrétně z výsledku můžeme vyvodit toto pravidlo: jestliže je někdo `Middle aged` (30-60), nebo `Young` (< 30), pak je šance 75.9%, že bude mít plat menší nebo rovno 50 tisíc dolarů za rok a zároveň takových lidí je 24 720 v celém datasetu.\n",
    "\n",
    "### Příklad 2\n",
    "Zajímavý výsledek dostaneme, pokud sledujeme korelaci atributů `marital-status` a `income`: "
   ]
  },
  {
   "cell_type": "code",
   "execution_count": null,
   "id": "0221b857",
   "metadata": {},
   "outputs": [],
   "source": [
    "clm = cleverminer(df=adultWithGdp, proc='4ftMiner',\n",
    "    quantifiers= {'conf':0.95, 'Base':10000},\n",
    "    ante ={\n",
    "        'attributes':[\n",
    "            {'name': 'marital-status', 'type': 'subset', 'minlen': 1, 'maxlen': 1}\n",
    "        ], 'minlen':1, 'maxlen':1, 'type':'con'},\n",
    "    succ ={\n",
    "        'attributes':[\n",
    "            {'name': 'income', 'type': 'subset', 'minlen': 1, 'maxlen': 1}\n",
    "        ], 'minlen':1, 'maxlen':1, 'type':'con'}\n",
    ")"
   ]
  },
  {
   "cell_type": "markdown",
   "id": "3c5262ca",
   "metadata": {},
   "source": [
    "Jak si z kódu můžeme povšimnout, snažíme se nyní najít vztah mezi manželským statusem a příjmem s velmi vysokou konfidencí - 95%. Otázka tedy nyní zní: Pokud si vezmeme člověka s určitým manželským statusem, je v nějakém případě pravděpodobnost, že daná osoba vydělává více či méně než 50k za rok, větší než 95% a zároveň takových osob je více než 10 000?\n",
    "\n",
    "Po spuštění zjistíme, že takové pravidlo skutečně existuje:"
   ]
  },
  {
   "cell_type": "code",
   "execution_count": 31,
   "id": "65ee5ebe",
   "metadata": {},
   "outputs": [
    {
     "name": "stdout",
     "output_type": "stream",
     "text": [
      "\n",
      "List of rules:\n",
      "RULEID BASE  CONF  AAD    Rule\n",
      "     1 10192 0.954 +0.257 marital-status(Never-married) => income(<=50K) | ---\n",
      "\n"
     ]
    }
   ],
   "source": [
    "clm.print_rulelist()"
   ]
  },
  {
   "cell_type": "markdown",
   "id": "1d1047b5",
   "metadata": {},
   "source": [
    "Podíváme se tedy na detaily:"
   ]
  },
  {
   "cell_type": "code",
   "execution_count": 32,
   "id": "fe708ecf",
   "metadata": {},
   "outputs": [
    {
     "name": "stdout",
     "output_type": "stream",
     "text": [
      "\n",
      "\n",
      "Rule id : 1\n",
      "\n",
      "Base : 10192  Relative base : 0.313  CONF : 0.954  AAD : +0.257  BAD : -0.257\n",
      "\n",
      "Cedents:\n",
      "  antecedent : marital-status(Never-married)\n",
      "  succcedent : income(<=50K)\n",
      "  condition  : ---\n",
      "\n",
      "Fourfold table\n",
      "    |  S  |  ¬S |\n",
      "----|-----|-----|\n",
      " A  |10192|  491|\n",
      "----|-----|-----|\n",
      "¬A  |14528| 7350|\n",
      "----|-----|-----|\n",
      "\n"
     ]
    }
   ],
   "source": [
    "clm.print_rule(1)"
   ]
  },
  {
   "cell_type": "markdown",
   "id": "650ee309",
   "metadata": {},
   "source": [
    "Z výsledku můžeme vyvodit následující závěr: Jestliže osoba nikdy nebyla v manželském vztahu, pak je 95% šance, že vydělává méně než 50k za rok a zároveň je takových lidí více než 10000. \n",
    "\n",
    "Z tabulky si ale můžeme také povšimnout dalšího pravidla: Pokud si osoba v životě již někoho vzala, pak je 33,5% šance, že má plat vyšší než 50k za rok - vypočteno na kalkulačce jako 7350(počet lidí, kteří si již někoho vzali a vydělávají více než 50k za rok) / (14528 + 7350(Součet všech lidí, kteří si již někoho vzali)). Teoreticky tedy můžeme říci, že začátek manželského vztahu zvyšuje pravděpodobnost, že daná osoba vydělává více, než 50k za rok, o 28.5% -> více než šestinásobně."
   ]
  },
  {
   "cell_type": "markdown",
   "id": "7b8e1495",
   "metadata": {},
   "source": [
    "V kódu je uvedeno několik dalších příkladů na 4ft miner s popisem v komentářích.\n",
    "\n",
    "## Krok 4 - [CF Miner](https://lispminer.vse.cz/guhate/doku.php?id=lm_guha_te_cf_proc)\n",
    "\n",
    "Reference na [Clever Miner](https://www.cleverminer.org/docs-page.html#section-4)\n",
    "\n",
    "Analytická procedura CF-Miner hledá všechna zajímavá rozdělení frekvencí kategorií předzpracovaného atributu počítaná na podmnožinách analyzovaných dat zadaných pomocí [booleovských atributů s bohatou syntaxí](https://lispminer.vse.cz/wiki/doku.php?id=lmtask:settings:ftcedent)."
   ]
  },
  {
   "cell_type": "markdown",
   "id": "5bf2a5ca",
   "metadata": {},
   "source": [
    "Analytickou úlohu v CF mineru můžeme definovat například takto:\n",
    "\n",
    "Existuje velmi výrazně převyšující hodnota atributu `income` pro nějakou kombinaci údajů `marital-status` a `relationship`?\n",
    "\n",
    "Vzhledem k tomu, že nás zajímá výrazně převažující hodnta, nastavíme kvantifikátor `RelMax` na 0.99. CF miner pak bude hledat kombinaci hodnot atributů `marital-status` a `relationship` tak, aby jedna z hodnot byla obsažena minimálně v 99% případů. Pomocí kvantifikátoru `Base` specifikujeme počet záznamů vyhovující podmínkám. Reference na další kvantifikátory lze nalézt v dokumentaci [Clever mineru](https://www.cleverminer.org/docs-page.html#section-4) v sekci CF miner.\n",
    "\n",
    "Ve slovníku cond si dále můžeme povšimnout dvou již zmíněných atributů. Syntax je zde stejný jako u 4ft-mineru. Povšimněme si ale nyní definice parametrů `minlen` a `maxlen` za polem atributů. `maxlen` je v tomto případě třeba nastavit na 2, aby vyhledával CF miner vztah mezi `income` a <b>kombinací</b> atributů `marital-status` a `relationship`."
   ]
  },
  {
   "cell_type": "code",
   "execution_count": null,
   "id": "d63def80",
   "metadata": {},
   "outputs": [],
   "source": [
    "clm = cleverminer(df=adultWithGdp,target='income',proc='CFMiner',\n",
    "    quantifiers= {'Base': 4000, 'RelMax': 0.99},\n",
    "    cond = {\n",
    "        'attributes':[\n",
    "            {'name': 'marital-status', 'type': 'subset', 'minlen': 1, 'maxlen': 1},\n",
    "            {'name': 'relationship', 'type': 'subset', 'minlen': 1, 'maxlen': 1}\n",
    "        ], 'minlen':1, 'maxlen':2, 'type':'con'}\n",
    ")"
   ]
  },
  {
   "cell_type": "markdown",
   "id": "7f384f40",
   "metadata": {},
   "source": [
    "Po spuštění tohoto kódu vypíšeme pravidlo, které CF miner našel:"
   ]
  },
  {
   "cell_type": "code",
   "execution_count": 34,
   "id": "160c9db1",
   "metadata": {},
   "outputs": [
    {
     "name": "stdout",
     "output_type": "stream",
     "text": [
      "\n",
      "\n",
      "Rule id : 1\n",
      "\n",
      "Base :  4485  Relative base : 0.138  Steps UP (consecutive) :     0  Steps DOWN (consecutive) :     1  Steps UP (any) :     0  Steps DOWN (any) :     1  Histogram maximum :  4451  Histogram minimum :    34  Histogram relative maximum : 0.992 Histogram relative minimum : 0.008\n",
      "\n",
      "Condition  : marital-status(Never-married) & relationship(Own-child)\n",
      "\n",
      "Histogram [4451, 34]\n",
      "\n"
     ]
    }
   ],
   "source": [
    "clm.print_rule(1)"
   ]
  },
  {
   "cell_type": "markdown",
   "id": "d739cb10",
   "metadata": {},
   "source": [
    "Vidíme, že CF miner skutečně takový vztah našel, dokážeme vyčíst, že pokud má člověk dítě a nikdy nebyl v manželství, pak má 99% šanci, že vydělává méně než 50k za rok a zároveň takových lidí je v datasetu minimálně 4400. V histogramu vidíme: [4451, 34] - pouze 34 takových lidí z celkových 4485 vydělává více než 50k za rok.\n",
    "\n",
    "Více příkladů s CF-minerem sem bude přidáno. Některé se již nachází v kódu."
   ]
  }
 ],
 "metadata": {
  "kernelspec": {
   "display_name": "Python 3.10.7 64-bit",
   "language": "python",
   "name": "python3"
  },
  "language_info": {
   "codemirror_mode": {
    "name": "ipython",
    "version": 3
   },
   "file_extension": ".py",
   "mimetype": "text/x-python",
   "name": "python",
   "nbconvert_exporter": "python",
   "pygments_lexer": "ipython3",
   "version": "3.10.7"
  },
  "vscode": {
   "interpreter": {
    "hash": "e1719be7d630e7e0894a4346e00239747771550a505546fd5ba4d63ceaa06c07"
   }
  }
 },
 "nbformat": 4,
 "nbformat_minor": 5
}
