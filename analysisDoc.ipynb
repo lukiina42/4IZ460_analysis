{
 "cells": [
  {
   "cell_type": "markdown",
   "id": "72cd65da",
   "metadata": {},
   "source": [
    "# Pokročilé dolování z databází - Průběžná zpráva\n",
    "### Autoři: Lukáš Vala, Dan Balarin\n",
    "\n",
    "# Použitá data\n",
    "V tomto návodu budeme pracovat s dvěma datasety:\n",
    " - [Adult](https://archive-beta.ics.uci.edu/dataset/2/adult) - Obsahuje data z roku 1994. Obsahuje informace o lidech z celého světa a k tomu navíc, zda daná osoba vydělává více či méně než 50000 dolarů za rok. Můžeme si tedy pokládat otázky, jak ovlivňuje plat národnost, rasa, pohlaví a podobně.\n",
    "    - Počet řádků: 48842\n",
    "    - Počet slouců: 14\n",
    " - [GDP in 1994](https://data.worldbank.org/indicator/NY.GDP.PCAP.CD?end=1994&most_recent_year_desc=true&start=1993) - Obsahuje informace o hrubém domácím produktu jednotlivých států v roce 1994. \n",
    "    - Počet řádků: 266\n",
    "    - Počet slouců: 3 - jeden z těchto sloupců bude v tomto návodu smazán\n",
    "\n",
    " Oba datasety obsahují sloupec stát - proto je budeme dále v dokumentu spojovat podle tohoto sloupce.\n",
    "\n",
    "# Vypracování návodu pro zpracování a analýzu dat pomocí systému CleverMiner\n",
    "## Krok 0 Instalace potřebných knihoven\n",
    "- Clever Miner: `pip install cleverminer`\n",
    "- pandas: `pip install pandas`\n",
    "## Krok 1 Načtení a zpracování dat\n",
    "Prvním krokem je načíst data pomocí knihovny pandas. Data se v tomto případě nacházejí ve složce data:"
   ]
  },
  {
   "cell_type": "code",
   "execution_count": 1,
   "id": "e28cd5cd",
   "metadata": {},
   "outputs": [
    {
     "name": "stderr",
     "output_type": "stream",
     "text": [
      "/usr/local/lib/python3.9/site-packages/pandas/util/_decorators.py:311: ParserWarning: Falling back to the 'python' engine because the 'c' engine does not support regex separators (separators > 1 char and different from '\\s+' are interpreted as regex); you can avoid this warning by specifying engine='python'.\n",
      "  return func(*args, **kwargs)\n"
     ]
    },
    {
     "data": {
      "text/html": [
       "<div>\n",
       "<style scoped>\n",
       "    .dataframe tbody tr th:only-of-type {\n",
       "        vertical-align: middle;\n",
       "    }\n",
       "\n",
       "    .dataframe tbody tr th {\n",
       "        vertical-align: top;\n",
       "    }\n",
       "\n",
       "    .dataframe thead th {\n",
       "        text-align: right;\n",
       "    }\n",
       "</style>\n",
       "<table border=\"1\" class=\"dataframe\">\n",
       "  <thead>\n",
       "    <tr style=\"text-align: right;\">\n",
       "      <th></th>\n",
       "      <th>country</th>\n",
       "      <th>Most Recent Year</th>\n",
       "      <th>GDP per Capita</th>\n",
       "    </tr>\n",
       "  </thead>\n",
       "  <tbody>\n",
       "    <tr>\n",
       "      <th>0</th>\n",
       "      <td>Saudi Arabia</td>\n",
       "      <td>1994</td>\n",
       "      <td>7421.3</td>\n",
       "    </tr>\n",
       "    <tr>\n",
       "      <th>1</th>\n",
       "      <td>Qatar</td>\n",
       "      <td>1994</td>\n",
       "      <td>14544.0</td>\n",
       "    </tr>\n",
       "    <tr>\n",
       "      <th>2</th>\n",
       "      <td>Ukraine</td>\n",
       "      <td>1994</td>\n",
       "      <td>1012.0</td>\n",
       "    </tr>\n",
       "    <tr>\n",
       "      <th>3</th>\n",
       "      <td>Jordan</td>\n",
       "      <td>1994</td>\n",
       "      <td>1414.3</td>\n",
       "    </tr>\n",
       "    <tr>\n",
       "      <th>4</th>\n",
       "      <td>Indonesia</td>\n",
       "      <td>1994</td>\n",
       "      <td>912.2</td>\n",
       "    </tr>\n",
       "  </tbody>\n",
       "</table>\n",
       "</div>"
      ],
      "text/plain": [
       "        country  Most Recent Year  GDP per Capita\n",
       "0  Saudi Arabia              1994          7421.3\n",
       "1         Qatar              1994         14544.0\n",
       "2       Ukraine              1994          1012.0\n",
       "3        Jordan              1994          1414.3\n",
       "4     Indonesia              1994           912.2"
      ]
     },
     "execution_count": 1,
     "metadata": {},
     "output_type": "execute_result"
    }
   ],
   "source": [
    "import pandas as pd\n",
    "\n",
    "adult = pd.read_csv ('./data/adult.data', encoding='cp1250', sep=', ')\n",
    "gdp = pd.read_csv ('./data/gdpStates.txt', encoding='cp1250', sep='\\t')\n",
    "\n",
    "adult.head(5)\n",
    "gdp.head(5)"
   ]
  },
  {
   "cell_type": "markdown",
   "id": "cf46a960",
   "metadata": {},
   "source": [
    "Pomocí parametru `sep` je důležité specifikovat, jaký separátor jednotlivých atributů je v tabulce použit. U datasetu adult je to `, ` a u GDP je to tabulátor. Správnost načtení dat můžeme poté zkontrolovat pomocí výpisu prvních 5 hodnot obou tabulek.\n",
    "\n",
    "Dále bychom si také měli zkontrolovat, zda pandas správně určila datové typy u jednotlivých sloupců. \n",
    "To můžeme zjistit pomocí příkazu `dtypes`:"
   ]
  },
  {
   "cell_type": "code",
   "execution_count": 2,
   "id": "4b1b8dd9",
   "metadata": {},
   "outputs": [
    {
     "name": "stdout",
     "output_type": "stream",
     "text": [
      "Age                int64\n",
      "Workclass         object\n",
      "fnlwgt             int64\n",
      "education         object\n",
      "education-num      int64\n",
      "marital-status    object\n",
      "occupation        object\n",
      "relationship      object\n",
      "race              object\n",
      "sex               object\n",
      "capital-gain       int64\n",
      "capital-loss       int64\n",
      "hours-per-week     int64\n",
      "country           object\n",
      "income            object\n",
      "dtype: object\n",
      "country              object\n",
      "Most Recent Year      int64\n",
      "GDP per Capita      float64\n",
      "dtype: object\n"
     ]
    }
   ],
   "source": [
    "print(adult.dtypes)\n",
    "print(gdp.dtypes)"
   ]
  },
  {
   "cell_type": "markdown",
   "id": "677e5ea6",
   "metadata": {},
   "source": [
    "Pro string vypíše pandas `object`, pro integer `int64` a pro desetinné číslo `float64`"
   ]
  },
  {
   "cell_type": "markdown",
   "id": "f9af326a",
   "metadata": {},
   "source": [
    "## Krok 2 - Spojení dat\n",
    "Nyní je třeba spojit 2 tabulky do sebe, abychom mohli analýzu provádět nad datasetem Adult společně s informací o hrubém domácím produktu státu, v němž byl daný člověk narozen. \n",
    "\n",
    "Oba datasety obsahují sloupec country. V tabulce `adult` se tento sloupec jmenuje `native-country`, je proto nutné ho přejmenovat přímo v datasetu na `country`, aby se shodoval s názvem sloupce ve druhém datasetu. Dále je potřeba upravit jednotlivé hodnoty v jedné z tabulek, protože např. hodnota `United States` v tabulce adult je původně zapsána v gdp tabulce jako `United-States`. Použijeme tedy funkci definovanou v ukázce pod tímto textem a následně v datech GDP najdeme jednotlivé hodnoty a nahradíme je správnými hodnotami z tabulky adult (použita funkce najít a nahradit ve VS-code :) )."
   ]
  },
  {
   "cell_type": "code",
   "execution_count": 3,
   "id": "3a58d95e",
   "metadata": {},
   "outputs": [],
   "source": [
    "def getUniqueValuesFromColumn(df, col):\n",
    "    values = df[col].tolist()\n",
    "    uniqueValues = []\n",
    "    for i in values:\n",
    "        if(i not in uniqueValues):\n",
    "            uniqueValues.append(i)\n",
    "    return uniqueValues\n",
    "\n",
    "uniqueCountryValues = getUniqueValuesFromColumn(adult, \"country\")"
   ]
  },
  {
   "cell_type": "markdown",
   "id": "05e262ff",
   "metadata": {},
   "source": [
    "Před samotným spojením tabulek ještě odstraníme z GDP tabulky ty státy, které nejsou obsaženy v tabulce adult, aby po spojení nedošlo k vytvoření několika řádků s prázdnými hodnotami (vyplněný by byl pouze stát). Použijeme proto další funkci, do které přidáme dataset, název sloupce a pole hodnot států. Funkce nám pak vráti dataset obsahující pouze řádky se státem, který byl obsažený v poskytnutém poli (uniqueCountryValues z části před touto)."
   ]
  },
  {
   "cell_type": "code",
   "execution_count": 4,
   "id": "623a0422",
   "metadata": {},
   "outputs": [],
   "source": [
    "def filter_rows_by_values(df, col, values):\n",
    "    return df[df[col].isin(values)]\n",
    "\n",
    "gdp = filter_rows_by_values(gdp, \"country\", uniqueCountryValues)"
   ]
  },
  {
   "cell_type": "markdown",
   "id": "906393a4",
   "metadata": {},
   "source": [
    "Poté již spojíme datasety a vznikne nám nový, který obsahuje všechny atributy z datasetu adult a navíc hrubý domácí produkt státu, ze kterého daná osoba pochází:"
   ]
  },
  {
   "cell_type": "code",
   "execution_count": 5,
   "id": "4706b81c",
   "metadata": {},
   "outputs": [],
   "source": [
    "adultWithGdp = pd.merge(adult, gdp, on='country', how='outer')"
   ]
  },
  {
   "cell_type": "markdown",
   "id": "2585e3dc",
   "metadata": {},
   "source": [
    "Nyní můžeme vytvořit nové atributy v datasetu podle našich potřeb. Následující kód vytvoří nový sloupec `AgeStatus` a připíše hodnotu \"Young\" lidem mladším než 30, \"Middle aged\" lidem mezi 30 a 60 a \"Old\" lidem starším než 60."
   ]
  },
  {
   "cell_type": "code",
   "execution_count": 6,
   "id": "9e1f3de7",
   "metadata": {},
   "outputs": [],
   "source": [
    "adultWithGdp['AgeStatus'] = adultWithGdp.apply(lambda row: \"Young\" if row.Age < 30 else (\"Middle aged\" if row.Age >= 30 & row.Age < 60 else \"Old\"), axis=1)"
   ]
  },
  {
   "cell_type": "markdown",
   "id": "8a492ccc",
   "metadata": {},
   "source": [
    "## Krok 3 - <a href=\"https://lispminer.vse.cz/wiki/doku.php?id=mft:start\">4ft miner</a>\n",
    "\n",
    "Reference na [Clever Miner](https://www.cleverminer.org/docs-page.html#section-4)\n",
    "\n",
    "Analytická procedura 4ft-Miner hledá všechny zajímavé frekvence kombinací hodnot kategorií dvou předzpracovaných atributů, navíc počítané na podmnožinách analyzovaných dat zadaných pomocí booleovských atributů s bohatou syntaxí.\n",
    " \n",
    "U 4ft mineru nastavuje základní parametry:\n",
    "`conf`: Konfidence - pravděpodobnost, že podmínka bude vyplněna\n",
    "`base`: Základ - počet vyhovujících případů\n",
    "`minlen, maxlen`: Maximální a minimální délka podmnožin/sekvencí/cutů\n",
    "\n",
    "### Příklad 1\n",
    "\n",
    "V Clever Mineru používáme 4ft miner následovně:"
   ]
  },
  {
   "cell_type": "code",
   "execution_count": 7,
   "id": "5f44f70f",
   "metadata": {},
   "outputs": [
    {
     "name": "stdout",
     "output_type": "stream",
     "text": [
      "Cleverminer version  1.0.2  educational version. For production use (bugfixes and keeping compatibility), ask for PRO version.\n",
      "Cleverminer version 1.0.2. Note: This version is for personal and educational use only. If you need PRO version (support, fixing structures for compactibility in future versions for production deployment, additional development, licensing of commercial use of subroutines used), feel free to ask authors. Most of these functionalities are maintained in best-effort, as soon as this project is at given conditions for free use and rapid development is needed, they cannot be guaranteed.\n",
      "Warning: Python 3.10+ NOT detected. You should upgrade to Python 3.10 or greater to get better performance\n",
      "Starting data preparation ...\n",
      "Encoding columns into bit-form...\n",
      "Encoding columns into bit-form...done\n",
      "Data preparation finished.\n",
      "Will go for  4ftMiner\n",
      "Starting to mine rules.\n",
      "Done. Total verifications : 1, rules 1,control number:0, times: prep 4.043574094772339, processing 0.001699686050415039\n"
     ]
    }
   ],
   "source": [
    "from cleverminer import cleverminer\n",
    "\n",
    "clm = cleverminer(df=adultWithGdp, proc='4ftMiner',\n",
    "               quantifiers= {'conf':0.7, 'Base':18000},\n",
    "               ante ={\n",
    "                    'attributes':[\n",
    "                        {'name': 'AgeStatus', 'type': 'subset', 'minlen': 1, 'maxlen': 2}\n",
    "                    ], 'minlen':1, 'maxlen':1, 'type':'con'},\n",
    "               succ ={\n",
    "                    'attributes':[\n",
    "                        {'name': 'income', 'type': 'subset', 'minlen': 1, 'maxlen': 1}\n",
    "                    ], 'minlen':1, 'maxlen':1, 'type':'con'}\n",
    "                )"
   ]
  },
  {
   "cell_type": "markdown",
   "id": "e4a5d497",
   "metadata": {},
   "source": [
    "V předchozí ukázce jako antecedent nastavujeme vytvořený atribut `AgeStatus` s minimální délkou atributu 1 a maximální délkou 2. To znamená, že clever miner bude vyhledávat podmnožiny z atributu AgeStatus o délce 1 - 2. Jako výsledek tedy můžeme dostat například `AgeStatus(Middle aged)`(délka podmnožiny 1), nebo např. `AgeStatus(Middle aged, Old)`(délka podmnožiny 2), což nám říká, že Age status daného člověka je buď Middle aged nebo Old. Sukcedent jsme nastavili na `income`. Vzhledem k tomu, že atribut `income` může nabývat pouze dvou hodnot, nedává v tomto případě smysl nastavovat maximální délku podmnožiny na 2 - byly by obsaženy všechny hodnoty z `income`.\n",
    "\n",
    "Konfidenci jsme nastavili na 70% a základ 18 000.\n",
    "\n",
    "Přepisem do lidsky srozumitelného jazyka toto znamená: Jestliže si vezmeme pro osobu jednu nebo dvě hodnoty z `AgeStatus`(Old/Yound/Middle aged), je v nějakém případě pravděpodobnost, že daná osoba bude vydělávat více či méně než 50K, vyšší než 70% a zároveň je takových osob v datasetu více než 18 000?\n",
    "\n",
    "Výsledek vypíšeme následovně:"
   ]
  },
  {
   "cell_type": "markdown",
   "id": "80c85e41",
   "metadata": {},
   "source": [
    "Pomocí následujícího příkazu můžeme zjistit, zda Clever Miner takové pravidlo v datech našel:"
   ]
  },
  {
   "cell_type": "code",
   "execution_count": 8,
   "id": "f222e686",
   "metadata": {},
   "outputs": [
    {
     "name": "stdout",
     "output_type": "stream",
     "text": [
      "\n",
      "List of rules:\n",
      "RULEID BASE  CONF  AAD    Rule\n",
      "     1 24720 0.759 +0.000 AgeStatus(Middle aged Young) => income(<=50K) | ---\n",
      "\n"
     ]
    }
   ],
   "source": [
    "clm.print_rulelist()"
   ]
  },
  {
   "cell_type": "markdown",
   "id": "510a34dc",
   "metadata": {},
   "source": [
    "Z výpisu vydíme, že jedno takové pravidlo existuje. Detaily o něm vypíšeme následovně:"
   ]
  },
  {
   "cell_type": "code",
   "execution_count": 9,
   "id": "d4160a72",
   "metadata": {},
   "outputs": [
    {
     "name": "stdout",
     "output_type": "stream",
     "text": [
      "\n",
      "\n",
      "Rule id : 1\n",
      "\n",
      "Base : 24720  Relative base : 0.759  CONF : 0.759  AAD : +0.000  BAD : +0.000\n",
      "\n",
      "Cedents:\n",
      "  antecedent : AgeStatus(Middle aged Young)\n",
      "  succcedent : income(<=50K)\n",
      "  condition  : ---\n",
      "\n",
      "Fourfold table\n",
      "    |  S  |  ¬S |\n",
      "----|-----|-----|\n",
      " A  |24720| 7841|\n",
      "----|-----|-----|\n",
      "¬A  |    0|    0|\n",
      "----|-----|-----|\n",
      "\n"
     ]
    }
   ],
   "source": [
    "clm.print_rule(1)"
   ]
  },
  {
   "cell_type": "markdown",
   "id": "1fad1914",
   "metadata": {},
   "source": [
    "Z tabulky vidíme, že Clever Miner skutečně našel takový vztah mezi `AgeStatus` a `income`. Konkrétně z výsledku můžeme vyvodit toto pravidlo: jestliže je někdo `Middle aged` (30-60), nebo `Young` (< 30), pak je šance 75.9%, že bude mít plat menší nebo rovno 50 tisíc dolarů za rok a zároveň takových lidí je 24 720 v celém datasetu.\n",
    "\n",
    "### Příklad 2\n",
    "Zajímavý výsledek dostaneme, pokud sledujeme korelaci atributů `marital-status` a `income`: "
   ]
  },
  {
   "cell_type": "code",
   "execution_count": 10,
   "id": "0221b857",
   "metadata": {},
   "outputs": [
    {
     "name": "stdout",
     "output_type": "stream",
     "text": [
      "Cleverminer version 1.0.2. Note: This version is for personal and educational use only. If you need PRO version (support, fixing structures for compactibility in future versions for production deployment, additional development, licensing of commercial use of subroutines used), feel free to ask authors. Most of these functionalities are maintained in best-effort, as soon as this project is at given conditions for free use and rapid development is needed, they cannot be guaranteed.\n",
      "Warning: Python 3.10+ NOT detected. You should upgrade to Python 3.10 or greater to get better performance\n",
      "Starting data preparation ...\n",
      "Encoding columns into bit-form...\n",
      "Encoding columns into bit-form...done\n",
      "Data preparation finished.\n",
      "Will go for  4ftMiner\n",
      "Starting to mine rules.\n",
      "Done. Total verifications : 1, rules 1,control number:0, times: prep 3.785076856613159, processing 0.002240896224975586\n"
     ]
    }
   ],
   "source": [
    "clm = cleverminer(df=adultWithGdp, proc='4ftMiner',\n",
    "    quantifiers= {'conf':0.95, 'Base':10000},\n",
    "    ante ={\n",
    "        'attributes':[\n",
    "            {'name': 'marital-status', 'type': 'subset', 'minlen': 1, 'maxlen': 1}\n",
    "        ], 'minlen':1, 'maxlen':1, 'type':'con'},\n",
    "    succ ={\n",
    "        'attributes':[\n",
    "            {'name': 'income', 'type': 'subset', 'minlen': 1, 'maxlen': 1}\n",
    "        ], 'minlen':1, 'maxlen':1, 'type':'con'}\n",
    ")"
   ]
  },
  {
   "cell_type": "markdown",
   "id": "3c5262ca",
   "metadata": {},
   "source": [
    "Jak si z kódu můžeme povšimnout, snažíme se nyní najít vztah mezi manželským statusem a příjmem s velmi vysokou konfidencí - 95%. Otázka tedy nyní zní: Pokud si vezmeme člověka s určitým manželským statusem, je v nějakém případě pravděpodobnost, že daná osoba vydělává více či méně než 50k za rok, větší než 95% a zároveň takových osob je více než 10 000?\n",
    "\n",
    "Po spuštění zjistíme, že takové pravidlo skutečně existuje:"
   ]
  },
  {
   "cell_type": "code",
   "execution_count": 11,
   "id": "65ee5ebe",
   "metadata": {},
   "outputs": [
    {
     "name": "stdout",
     "output_type": "stream",
     "text": [
      "\n",
      "List of rules:\n",
      "RULEID BASE  CONF  AAD    Rule\n",
      "     1 10192 0.954 +0.257 marital-status(Never-married) => income(<=50K) | ---\n",
      "\n"
     ]
    }
   ],
   "source": [
    "clm.print_rulelist()"
   ]
  },
  {
   "cell_type": "markdown",
   "id": "1d1047b5",
   "metadata": {},
   "source": [
    "Podíváme se tedy na detaily:"
   ]
  },
  {
   "cell_type": "code",
   "execution_count": 12,
   "id": "fe708ecf",
   "metadata": {},
   "outputs": [
    {
     "name": "stdout",
     "output_type": "stream",
     "text": [
      "\n",
      "\n",
      "Rule id : 1\n",
      "\n",
      "Base : 10192  Relative base : 0.313  CONF : 0.954  AAD : +0.257  BAD : -0.257\n",
      "\n",
      "Cedents:\n",
      "  antecedent : marital-status(Never-married)\n",
      "  succcedent : income(<=50K)\n",
      "  condition  : ---\n",
      "\n",
      "Fourfold table\n",
      "    |  S  |  ¬S |\n",
      "----|-----|-----|\n",
      " A  |10192|  491|\n",
      "----|-----|-----|\n",
      "¬A  |14528| 7350|\n",
      "----|-----|-----|\n",
      "\n"
     ]
    }
   ],
   "source": [
    "clm.print_rule(1)"
   ]
  },
  {
   "cell_type": "markdown",
   "id": "650ee309",
   "metadata": {},
   "source": [
    "Z výsledku můžeme vyvodit následující závěr: Jestliže osoba nikdy nebyla v manželském vztahu, pak je 95% šance, že vydělává méně než 50k za rok a zároveň je takových lidí více než 10000. \n",
    "\n",
    "Z tabulky si ale můžeme také povšimnout dalšího pravidla: Pokud si osoba v životě již někoho vzala, pak je 33,5% šance, že má plat vyšší než 50k za rok - vypočteno na kalkulačce jako 7350(počet lidí, kteří si již někoho vzali a vydělávají více než 50k za rok) / (14528 + 7350(Součet všech lidí, kteří si již někoho vzali)). Teoreticky tedy můžeme říci, že začátek manželského vztahu zvyšuje pravděpodobnost, že daná osoba vydělává více, než 50k za rok, o 28.5% -> více než šestinásobně."
   ]
  },
  {
   "cell_type": "markdown",
   "id": "7b8e1495",
   "metadata": {},
   "source": [
    "V kódu je uvedeno několik dalších příkladů na 4ft miner s popisem v komentářích.\n",
    "\n",
    "## Krok 4 - [CF Miner](https://lispminer.vse.cz/guhate/doku.php?id=lm_guha_te_cf_proc)\n",
    "\n",
    "Reference na [Clever Miner](https://www.cleverminer.org/docs-page.html#section-4)\n",
    "\n",
    "Analytická procedura CF-Miner hledá všechna zajímavá rozdělení frekvencí kategorií předzpracovaného atributu počítaná na podmnožinách analyzovaných dat zadaných pomocí [booleovských atributů s bohatou syntaxí](https://lispminer.vse.cz/wiki/doku.php?id=lmtask:settings:ftcedent)."
   ]
  },
  {
   "cell_type": "markdown",
   "id": "5bf2a5ca",
   "metadata": {},
   "source": [
    "Analytickou úlohu v CF mineru můžeme definovat například takto:\n",
    "\n",
    "Existuje velmi výrazně převyšující hodnota atributu `income` pro nějakou kombinaci údajů `marital-status` a `relationship`?\n",
    "\n",
    "Vzhledem k tomu, že nás zajímá výrazně převažující hodnta, nastavíme kvantifikátor `RelMax` na 0.99. CF miner pak bude hledat kombinaci hodnot atributů `marital-status` a `relationship` tak, aby jedna z hodnot byla obsažena minimálně v 99% případů. Pomocí kvantifikátoru `Base` specifikujeme počet záznamů vyhovující podmínkám. Reference na další kvantifikátory lze nalézt v dokumentaci [Clever mineru](https://www.cleverminer.org/docs-page.html#section-4) v sekci CF miner.\n",
    "\n",
    "Ve slovníku cond si dále můžeme povšimnout dvou již zmíněných atributů. Syntax je zde stejný jako u 4ft-mineru. Povšimněme si ale nyní definice parametrů `minlen` a `maxlen` za polem atributů. `maxlen` je v tomto případě třeba nastavit na 2, aby vyhledával CF miner vztah mezi `income` a <b>kombinací</b> atributů `marital-status` a `relationship`."
   ]
  },
  {
   "cell_type": "code",
   "execution_count": 18,
   "id": "d63def80",
   "metadata": {},
   "outputs": [
    {
     "name": "stdout",
     "output_type": "stream",
     "text": [
      "Cleverminer version 1.0.2. Note: This version is for personal and educational use only. If you need PRO version (support, fixing structures for compactibility in future versions for production deployment, additional development, licensing of commercial use of subroutines used), feel free to ask authors. Most of these functionalities are maintained in best-effort, as soon as this project is at given conditions for free use and rapid development is needed, they cannot be guaranteed.\n",
      "Warning: Python 3.10+ NOT detected. You should upgrade to Python 3.10 or greater to get better performance\n",
      "Starting data preparation ...\n",
      "Encoding columns into bit-form...\n",
      "Encoding columns into bit-form...done\n",
      "Data preparation finished.\n",
      "Will go for  CFMiner\n",
      "Starting to mine rules.\n",
      "Done. Total verifications : 9, rules 1,control number:0, times: prep 3.945718765258789, processing 0.005689144134521484\n"
     ]
    }
   ],
   "source": [
    "clm = cleverminer(df=adultWithGdp,target='income',proc='CFMiner',\n",
    "    quantifiers= {'Base': 4000, 'RelMax': 0.99},\n",
    "    cond = {\n",
    "        'attributes':[\n",
    "            {'name': 'marital-status', 'type': 'subset', 'minlen': 1, 'maxlen': 1},\n",
    "            {'name': 'relationship', 'type': 'subset', 'minlen': 1, 'maxlen': 1}\n",
    "        ], 'minlen':1, 'maxlen':2, 'type':'con'}\n",
    ")"
   ]
  },
  {
   "cell_type": "markdown",
   "id": "7f384f40",
   "metadata": {},
   "source": [
    "Po spuštění tohoto kódu vypíšeme pravidlo, které CF miner našel:"
   ]
  },
  {
   "cell_type": "code",
   "execution_count": 14,
   "id": "160c9db1",
   "metadata": {},
   "outputs": [
    {
     "name": "stdout",
     "output_type": "stream",
     "text": [
      "\n",
      "\n",
      "Rule id : 1\n",
      "\n",
      "Base :  4485  Relative base : 0.138  Steps UP (consecutive) :     0  Steps DOWN (consecutive) :     1  Steps UP (any) :     0  Steps DOWN (any) :     1  Histogram maximum :  4451  Histogram minimum :    34  Histogram relative maximum : 0.992 Histogram relative minimum : 0.008\n",
      "\n",
      "Condition  : marital-status(Never-married) & relationship(Own-child)\n",
      "\n",
      "Histogram [4451, 34]\n",
      "\n"
     ]
    }
   ],
   "source": [
    "clm.print_rule(1)"
   ]
  },
  {
   "cell_type": "markdown",
   "id": "d739cb10",
   "metadata": {},
   "source": [
    "Vidíme, že CF miner skutečně takový vztah našel, dokážeme vyčíst, že pokud má člověk dítě a nikdy nebyl v manželství, pak má 99% šanci, že vydělává méně než 50k za rok a zároveň takových lidí je v datasetu minimálně 4400. V histogramu vidíme: [4451, 34] - pouze 34 takových lidí z celkových 4485 vydělává více než 50k za rok.\n",
    "\n",
    "Více příkladů s CF-minerem sem bude přidáno. Některé se již nachází v kódu."
   ]
  },
  {
   "cell_type": "markdown",
   "id": "67d99c43-ef91-48dd-b0c9-fb486e7f1f0f",
   "metadata": {},
   "source": [
    "## Krok 5 - [SD4ft-Miner](https://lispminer.vse.cz/guhate/doku.php?id=lm_guha_te_sd4ft_proc)"
   ]
  },
  {
   "cell_type": "markdown",
   "id": "f0a1ed53-19bf-46de-83a0-da484ac4a75e",
   "metadata": {},
   "source": [
    "Reference na [Clever Miner](https://www.cleverminer.org/docs-page.html#section-4)"
   ]
  },
  {
   "cell_type": "markdown",
   "id": "eaac6bff-79af-4cb0-92ec-08f019300664",
   "metadata": {},
   "source": [
    "Procedura  SD4ft-Miner hledá rozdíly v konfidenci různých podmnožin dat. Podobně jako 4ft-Miner přijímá `succedent` a `antecedent`, ale k tomu navíc ještě dva booleovské atributy které určují podmnožiny dat. Jako quantifier se pak volí z následujících: base hodnoty pro množiny (počet záznamů) absolutní a relativní, confidence pro množiny a relativní či absolutní rozdíl v konfidencích."
   ]
  },
  {
   "cell_type": "markdown",
   "id": "7f825e56-f2a4-4545-b772-f989c759f380",
   "metadata": {},
   "source": [
    "### Příklad 1 (SD4ft)"
   ]
  },
  {
   "cell_type": "markdown",
   "id": "e4307010-3ca1-4d0b-8b59-e42e9af6a3e6",
   "metadata": {},
   "source": [
    "Pojďme se podívat na praktický příklad. Chceme zjistit jestli existují dvě takové země, že v jedné je alespoň dvakrát taková šance, že úroveň dosaženého vzdělání ovlivňuje výši příjmů a v každé množině máme base 100. Formálnějším zápisem by to vypadalo takto: $Country(?) \\times Country(?): [Education \\approx Income]$"
   ]
  },
  {
   "cell_type": "code",
   "execution_count": 34,
   "id": "337ed13a-7eb0-4f83-905a-89a5e36dd08f",
   "metadata": {},
   "outputs": [
    {
     "name": "stdout",
     "output_type": "stream",
     "text": [
      "Cleverminer version 1.0.2. Note: This version is for personal and educational use only. If you need PRO version (support, fixing structures for compactibility in future versions for production deployment, additional development, licensing of commercial use of subroutines used), feel free to ask authors. Most of these functionalities are maintained in best-effort, as soon as this project is at given conditions for free use and rapid development is needed, they cannot be guaranteed.\n",
      "Warning: Python 3.10+ NOT detected. You should upgrade to Python 3.10 or greater to get better performance\n",
      "Starting data preparation ...\n",
      "Encoding columns into bit-form...\n",
      "Encoding columns into bit-form...done\n",
      "Data preparation finished.\n",
      "Will go for  SD4ftMiner\n",
      "Starting to mine rules.\n",
      "Done. Total verifications : 419832, rules 3,control number:0, times: prep 4.082936763763428, processing 369.00958490371704\n"
     ]
    }
   ],
   "source": [
    "clm = cleverminer(df=adultWithGdp, proc='SD4ftMiner',\n",
    "               quantifiers= {'Base1':100, 'Base2':100, 'Ratioconf' : 2.0},\n",
    "               ante ={\n",
    "                    'attributes':[\n",
    "                        {'name': 'education', 'type': 'subset', 'minlen': 1, 'maxlen': 2}\n",
    "                    ], 'minlen':1, 'maxlen':1, 'type':'con'},\n",
    "               succ ={\n",
    "                    'attributes':[\n",
    "                        {'name': 'income', 'type': 'subset', 'minlen': 1, 'maxlen': 1}\n",
    "                    ], 'minlen':1, 'maxlen':1, 'type':'con'},\n",
    "               frst ={\n",
    "                    'attributes':[\n",
    "                        {'name': 'country', 'type': 'subset', 'minlen': 1, 'maxlen': 1}\n",
    "                    ], 'minlen':1, 'maxlen':1, 'type':'con'},\n",
    "               scnd ={\n",
    "                    'attributes':[\n",
    "                        {'name': 'country', 'type': 'subset', 'minlen': 1, 'maxlen': 1}\n",
    "                    ], 'minlen':1, 'maxlen':1, 'type':'con'}\n",
    "               )"
   ]
  },
  {
   "cell_type": "code",
   "execution_count": 36,
   "id": "e435c938-a053-496f-b3d2-a06fd15ed7d1",
   "metadata": {},
   "outputs": [
    {
     "name": "stdout",
     "output_type": "stream",
     "text": [
      "\n",
      "\n",
      "Rule id : 1\n",
      "\n",
      "Base1 :   145 Base2 :   171  Relative base 1 : 0.004 Relative base 2 : 0.005 CONF1 : 0.973  CONF2 : +0.402  Delta Conf : +0.571 Ratio Conf : +2.419\n",
      "\n",
      "Cedents:\n",
      "  antecedent : education(5th-6th Doctorate)\n",
      "  succcedent : income(<=50K)\n",
      "  condition  : ---\n",
      "  first set  : country(Mexico)\n",
      "  second set : country(United-States)\n",
      "\n",
      "Fourfold tables:\n",
      "FRST|  S  |  ¬S |  SCND|  S  |  ¬S |\n",
      "----|-----|-----|  ----|-----|-----| \n",
      " A  |  145|    4|   A  |  171|  254|\n",
      "----|-----|-----|  ----|-----|-----|\n",
      "¬A  |  465|   29|  ¬A  |21828| 6917|\n",
      "----|-----|-----|  ----|-----|-----|\n",
      "\n"
     ]
    }
   ],
   "source": [
    "clm.print_rule(1)"
   ]
  },
  {
   "cell_type": "markdown",
   "id": "5884dce5-11c7-47e1-9b92-a956bedb4261",
   "metadata": {},
   "source": [
    "Vidíme, že procedura našla právě tři taková pravidla pro která tyto omezení sedí. My se budeme dále zabívat pouze prvním, protože další dvě jsou v podstatě ten samý výsledek, jen jiná úrověň vzdělání. Jak teda na výsledku vidíme, procedura našla následující pravidlo: $Country(Mexico) \\times Country(US): Education(5th-6th Doctorate) \\Rightarrow _{2,100,100} Income(<=50K)$\n",
    "\n",
    "Pojďme se podívat na výsledek od konce, co nám řikají 4ft tabulky? Prví říká, že pokud osoba bydlí v Mexiku a dosáhne vzdělání na úrovni _5th-6th Doctorate_, pak je 97% šance, že bude mít příjem _<=50K_ a zároveň je takových osob alespoň 100. Druhá říká podobné tvrzení, jen že pokud osoba žije v US a dosáhne toho samého vzdělání, tak šance že bude mít roční plat _<=50K_ je 40%. A celkový výsledek na to co jsme se tázali je kombinace těchto dvou poznatků, tedy pokud osoba žije v Mexiku a dosáhne vzdělání na úrovni _5th-6th Doctorate_ pak má více než dvojnásobnou (presněji je to $2.4\\times$) pravděpodobnost, že bude mít plat _<=50K_ oproti osobě žijící v US s tím samým vzděláním."
   ]
  },
  {
   "cell_type": "code",
   "execution_count": 37,
   "id": "da899906-5139-4ed2-9214-fc6ef3d1a09d",
   "metadata": {},
   "outputs": [
    {
     "name": "stdout",
     "output_type": "stream",
     "text": [
      "\n",
      "\n",
      "Rule id : 2\n",
      "\n",
      "Base1 :   147 Base2 :   753  Relative base 1 : 0.005 Relative base 2 : 0.023 CONF1 : 0.961  CONF2 : +0.464  Delta Conf : +0.497 Ratio Conf : +2.072\n",
      "\n",
      "Cedents:\n",
      "  antecedent : education(5th-6th Masters)\n",
      "  succcedent : income(<=50K)\n",
      "  condition  : ---\n",
      "  first set  : country(Mexico)\n",
      "  second set : country(United-States)\n",
      "\n",
      "Fourfold tables:\n",
      "FRST|  S  |  ¬S |  SCND|  S  |  ¬S |\n",
      "----|-----|-----|  ----|-----|-----| \n",
      " A  |  147|    6|   A  |  753|  871|\n",
      "----|-----|-----|  ----|-----|-----|\n",
      "¬A  |  463|   27|  ¬A  |21246| 6300|\n",
      "----|-----|-----|  ----|-----|-----|\n",
      "\n",
      "\n",
      "\n",
      "Rule id : 3\n",
      "\n",
      "Base1 :   146 Base2 :   220  Relative base 1 : 0.004 Relative base 2 : 0.007 CONF1 : 0.973  CONF2 : +0.367  Delta Conf : +0.606 Ratio Conf : +2.650\n",
      "\n",
      "Cedents:\n",
      "  antecedent : education(5th-6th Prof-school)\n",
      "  succcedent : income(<=50K)\n",
      "  condition  : ---\n",
      "  first set  : country(Mexico)\n",
      "  second set : country(United-States)\n",
      "\n",
      "Fourfold tables:\n",
      "FRST|  S  |  ¬S |  SCND|  S  |  ¬S |\n",
      "----|-----|-----|  ----|-----|-----| \n",
      " A  |  146|    4|   A  |  220|  379|\n",
      "----|-----|-----|  ----|-----|-----|\n",
      "¬A  |  464|   29|  ¬A  |21779| 6792|\n",
      "----|-----|-----|  ----|-----|-----|\n",
      "\n"
     ]
    }
   ],
   "source": [
    "clm.print_rule(2)\n",
    "clm.print_rule(3)"
   ]
  },
  {
   "cell_type": "markdown",
   "id": "ccfcd1ac-f531-4327-95c2-da5bea6ae61b",
   "metadata": {},
   "source": [
    "Pro zajímavost se podíváme ještě na ty další dva výsledky. Jak vidíme, jde o ty samé země, ten samý plat, jediné co se mění je úroveň vzdělání (místo _5th-6th Doctorate_ to je _5th-6th Masters_ a _5th-6th Prof-school_) a samozřejmě se tím liší i konfidence (96% v Mexiku, 46% v US a 97% v Mexiku, 37% v US) a díky tomu se liší i násobnost ($2\\times$ a $2.65\\times$). Formální zápis pravidel je obdobný prvnímu pravidlu, opět se mění pouze úroveň vzdělání."
   ]
  },
  {
   "cell_type": "markdown",
   "id": "a624f9b2-1ea1-4641-983c-c7dea73a2d45",
   "metadata": {},
   "source": [
    "### Příklad 2 (SD4ft)"
   ]
  },
  {
   "cell_type": "markdown",
   "id": "411e1f67-e979-49d2-b2a7-72f5f1c35e36",
   "metadata": {},
   "source": [
    "Zkusíme si ještě jeden příklad. Jelikož SD4ft-Miner je velmi podobný 4ft-Mineru, tak si zkusíme podobné cvičení jako v Příkladu 1. Pro zopakování, zde je intepratace dotazu v srozumitelném jazyce:\n",
    "> Jestliže si vezmeme pro osobu jednu nebo dvě hodnoty z `AgeStatus`(Old/Yound/Middle aged), je v nějakém případě pravděpodobnost, že daná osoba bude vydělávat více či méně než 50K, vyšší než 70% a zároveň je takových osob v datasetu více než 18 000?\n",
    "\n",
    "Abychom to dali do kontextu SD4ft-Mineru, musíme dotaz trochu upravit. Zaprvé snížíme base, protože hodně zemí v našem datasetu nemá 18000 záznamů a v kontextu porovnání by nás to pak velmi limitovalo. Snížíme base opět na 100. Dále, původní dotaz se ptá na pravděpodobnost vyšší než 70%, my se ale v SD4ft=Mineru neptáme na absolutní pravděpodobnost (i když tu informaci máme potom k dispozici), ale ptáme se na rozdíl pravděpodobnosti mezi podmnožinami. Finální dotaz tedy bude:\n",
    "\n",
    "Jsou dvě takové země, že v jedné je alespoň o 30% vetší šance že věk osoby dané země ovlivňuje příjem tázané osoby? Formálně pak podobně jako v předchozém příkladu\" $Country(?) \\times Country(?): [AgeStatus \\approx Income]$"
   ]
  },
  {
   "cell_type": "code",
   "execution_count": 42,
   "id": "ed07b7c5-f242-46de-90e6-91950d009925",
   "metadata": {},
   "outputs": [
    {
     "name": "stdout",
     "output_type": "stream",
     "text": [
      "Cleverminer version 1.0.2. Note: This version is for personal and educational use only. If you need PRO version (support, fixing structures for compactibility in future versions for production deployment, additional development, licensing of commercial use of subroutines used), feel free to ask authors. Most of these functionalities are maintained in best-effort, as soon as this project is at given conditions for free use and rapid development is needed, they cannot be guaranteed.\n",
      "Warning: Python 3.10+ NOT detected. You should upgrade to Python 3.10 or greater to get better performance\n",
      "Starting data preparation ...\n",
      "Encoding columns into bit-form...\n",
      "Encoding columns into bit-form...done\n",
      "Data preparation finished.\n",
      "Will go for  SD4ftMiner\n",
      "Starting to mine rules.\n",
      "Done. Total verifications : 10584, rules 3,control number:0, times: prep 4.199059009552002, processing 10.384336233139038\n"
     ]
    }
   ],
   "source": [
    "clm = cleverminer(df=adultWithGdp, proc='SD4ftMiner',\n",
    "               quantifiers= {'Base1':100, 'Base2':100, 'Ratioconf' : 1.3},\n",
    "               ante ={\n",
    "                    'attributes':[\n",
    "                        {'name': 'AgeStatus', 'type': 'subset', 'minlen': 1, 'maxlen': 2}\n",
    "                    ], 'minlen':1, 'maxlen':1, 'type':'con'},\n",
    "               succ ={\n",
    "                    'attributes':[\n",
    "                        {'name': 'income', 'type': 'subset', 'minlen': 1, 'maxlen': 1}\n",
    "                    ], 'minlen':1, 'maxlen':1, 'type':'con'},\n",
    "               frst ={\n",
    "                    'attributes':[\n",
    "                        {'name': 'country', 'type': 'subset', 'minlen': 1, 'maxlen': 1}\n",
    "                    ], 'minlen':1, 'maxlen':1, 'type':'con'},\n",
    "               scnd ={\n",
    "                    'attributes':[\n",
    "                        {'name': 'country', 'type': 'subset', 'minlen': 1, 'maxlen': 1}\n",
    "                    ], 'minlen':1, 'maxlen':1, 'type':'con'}\n",
    "               )"
   ]
  },
  {
   "cell_type": "markdown",
   "id": "1e8dc52a-e8ce-493c-a356-1841ece0f140",
   "metadata": {},
   "source": [
    "Jak vidíme, Clever Miner nám našel právě tři taková pravidla, rozebereme si je od konce."
   ]
  },
  {
   "cell_type": "code",
   "execution_count": 53,
   "id": "499ee3c5-8ab8-4236-b8de-e9232da74784",
   "metadata": {},
   "outputs": [
    {
     "name": "stdout",
     "output_type": "stream",
     "text": [
      "\n",
      "\n",
      "Rule id : 3\n",
      "\n",
      "Base1 :   326 Base2 : 13795  Relative base 1 : 0.010 Relative base 2 : 0.424 CONF1 : 0.916  CONF2 : +0.673  Delta Conf : +0.243 Ratio Conf : +1.361\n",
      "\n",
      "Cedents:\n",
      "  antecedent : AgeStatus(Middle aged)\n",
      "  succcedent : income(<=50K)\n",
      "  condition  : ---\n",
      "  first set  : country(Mexico)\n",
      "  second set : country(United-States)\n",
      "\n",
      "Fourfold tables:\n",
      "FRST|  S  |  ¬S |  SCND|  S  |  ¬S |\n",
      "----|-----|-----|  ----|-----|-----| \n",
      " A  |  326|   30|   A  |13795| 6707|\n",
      "----|-----|-----|  ----|-----|-----|\n",
      "¬A  |  284|    3|  ¬A  | 8204|  464|\n",
      "----|-----|-----|  ----|-----|-----|\n",
      "\n"
     ]
    }
   ],
   "source": [
    "clm.print_rule(3)"
   ]
  },
  {
   "cell_type": "markdown",
   "id": "6027dc05-e1b4-4140-95ee-1fd40c82fe55",
   "metadata": {},
   "source": [
    "Jak můžeme vidět, jedná se opět o země US a Mexiko, tentokrát osoba žijící v Mexiku má o 30% větší šanci, že pokud spadá do věkové skupiny _Middle aged_, pak bude vydělávat méně než 50K ročně. Jdeme na další výsledek."
   ]
  },
  {
   "cell_type": "code",
   "execution_count": 54,
   "id": "43367258-f837-4751-84ae-f601839b8f55",
   "metadata": {},
   "outputs": [
    {
     "name": "stdout",
     "output_type": "stream",
     "text": [
      "\n",
      "\n",
      "Rule id : 2\n",
      "\n",
      "Base1 :   610 Base2 :   137  Relative base 1 : 0.019 Relative base 2 : 0.004 CONF1 : 0.949  CONF2 : +0.692  Delta Conf : +0.257 Ratio Conf : +1.371\n",
      "\n",
      "Cedents:\n",
      "  antecedent : AgeStatus(Middle aged Young)\n",
      "  succcedent : income(<=50K)\n",
      "  condition  : ---\n",
      "  first set  : country(Mexico)\n",
      "  second set : country(Philippines)\n",
      "\n",
      "Fourfold tables:\n",
      "FRST|  S  |  ¬S |  SCND|  S  |  ¬S |\n",
      "----|-----|-----|  ----|-----|-----| \n",
      " A  |  610|   33|   A  |  137|   61|\n",
      "----|-----|-----|  ----|-----|-----|\n",
      "¬A  |    0|    0|  ¬A  |    0|    0|\n",
      "----|-----|-----|  ----|-----|-----|\n",
      "\n"
     ]
    }
   ],
   "source": [
    "clm.print_rule(2)"
   ]
  },
  {
   "cell_type": "markdown",
   "id": "6635c13d-da72-4120-ae14-a9278fffcb76",
   "metadata": {},
   "source": [
    "Dříve než se pustíme bezhlavě do interpretace výsledků je třeba si všimnout jednoho faktu, a to že obě 4ft tabulky mají prázdný poslední řádek. To znamená, že ani v Mexiku ani na Filipínách není člověk který by **ne**zapadal do kategorií _Middle aged_ nebo _Young_ (tedy když si to obrátíme, není tam člověk ve skupině _Old_). To ale logicky nedává smysl, určitě v těch zemích žijí lidé starší 60ti let. Máme tedy rozpor mezi realitou a datasetem, a díky tomuto rozporu nemůžeme brát výsledek jako směrodatný. Když data nereflektují realitu, pak ani predikce nemůže správně předvídat realitu. Výsledek 2 tedy označíme jako statisticky nezajímavý."
   ]
  },
  {
   "cell_type": "code",
   "execution_count": 55,
   "id": "1ba9bd62-ae28-443c-9a08-1d5f1c30f91b",
   "metadata": {},
   "outputs": [
    {
     "name": "stdout",
     "output_type": "stream",
     "text": [
      "\n",
      "\n",
      "Rule id : 1\n",
      "\n",
      "Base1 :   326 Base2 :   302  Relative base 1 : 0.010 Relative base 2 : 0.009 CONF1 : 0.916  CONF2 : +0.686  Delta Conf : +0.229 Ratio Conf : +1.334\n",
      "\n",
      "Cedents:\n",
      "  antecedent : AgeStatus(Middle aged)\n",
      "  succcedent : income(<=50K)\n",
      "  condition  : ---\n",
      "  first set  : country(Mexico)\n",
      "  second set : country(?)\n",
      "\n",
      "Fourfold tables:\n",
      "FRST|  S  |  ¬S |  SCND|  S  |  ¬S |\n",
      "----|-----|-----|  ----|-----|-----| \n",
      " A  |  326|   30|   A  |  302|  138|\n",
      "----|-----|-----|  ----|-----|-----|\n",
      "¬A  |  284|    3|  ¬A  |  135|    8|\n",
      "----|-----|-----|  ----|-----|-----|\n",
      "\n"
     ]
    }
   ],
   "source": [
    "clm.print_rule(1)"
   ]
  },
  {
   "cell_type": "markdown",
   "id": "c95734f7-4b71-4073-a0f7-56e5555096ed",
   "metadata": {},
   "source": [
    "A v posledním (technicky vzato prvním) výsledku vidíme, že druhá množina je \"variabilní\". Výsledek lze pak interpretovat následujícím způsobem:\n",
    "\n",
    "Pokud osoba spadá do kategorie _Middle aged_ a žije v Mexiku, pak má alespoň o 30% větší šanci, že bude mít příjem _<=50K_ oproti osobě té samé věkové kategorie žijící mimo Mexiko."
   ]
  },
  {
   "cell_type": "code",
   "execution_count": null,
   "id": "da14625f-94d7-40c1-addc-107d52745602",
   "metadata": {},
   "outputs": [],
   "source": []
  }
 ],
 "metadata": {
  "kernelspec": {
   "display_name": "Python 3 (ipykernel)",
   "language": "python",
   "name": "python3"
  },
  "language_info": {
   "codemirror_mode": {
    "name": "ipython",
    "version": 3
   },
   "file_extension": ".py",
   "mimetype": "text/x-python",
   "name": "python",
   "nbconvert_exporter": "python",
   "pygments_lexer": "ipython3",
   "version": "3.9.13"
  },
  "vscode": {
   "interpreter": {
    "hash": "e1719be7d630e7e0894a4346e00239747771550a505546fd5ba4d63ceaa06c07"
   }
  }
 },
 "nbformat": 4,
 "nbformat_minor": 5
}
